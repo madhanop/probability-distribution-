{
 "cells": [
  {
   "cell_type": "code",
   "execution_count": 1,
   "id": "7d8662ab",
   "metadata": {},
   "outputs": [
    {
     "name": "stdout",
     "output_type": "stream",
     "text": [
      "Enter the mu5\n",
      "Enter the sigma6\n",
      "Enter -1 if you need infinity\n",
      "Enter the input1:6\n",
      "Enter the input2:8\n",
      "-0.0068957315562734045\n"
     ]
    }
   ],
   "source": [
    "from statistics import NormalDist\n",
    "mu=int(input(\"Enter the mu\"))\n",
    "sigma=int(input(\"Enter the sigma\"))\n",
    "dis=NormalDist(mu=mu,sigma=sigma)\n",
    "print(\"Enter -1 if you need infinity\")\n",
    "input1=int(input(\"Enter the input1:\"))\n",
    "input2=int(input(\"Enter the input2:\"))\n",
    "if(input1==-1 or input2==-1):\n",
    "    if input1:\n",
    "        print(0-dis.pdf(input2))\n",
    "    else:\n",
    "            print(dis.pdf(input1))\n",
    "else:\n",
    "     print(dis.pdf(input2)-dis.pdf(input1))"
   ]
  },
  {
   "cell_type": "code",
   "execution_count": null,
   "id": "631673d3",
   "metadata": {},
   "outputs": [],
   "source": []
  }
 ],
 "metadata": {
  "kernelspec": {
   "display_name": "Python 3 (ipykernel)",
   "language": "python",
   "name": "python3"
  },
  "language_info": {
   "codemirror_mode": {
    "name": "ipython",
    "version": 3
   },
   "file_extension": ".py",
   "mimetype": "text/x-python",
   "name": "python",
   "nbconvert_exporter": "python",
   "pygments_lexer": "ipython3",
   "version": "3.9.7"
  }
 },
 "nbformat": 4,
 "nbformat_minor": 5
}
